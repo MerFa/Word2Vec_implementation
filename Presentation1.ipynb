{
 "cells": [
  {
   "cell_type": "code",
   "execution_count": 1,
   "metadata": {},
   "outputs": [
    {
     "name": "stderr",
     "output_type": "stream",
     "text": [
      "C:\\Users\\Merlin\\New folder\\lib\\site-packages\\gensim\\utils.py:862: UserWarning: detected Windows; aliasing chunkize to chunkize_serial\n",
      "  warnings.warn(\"detected Windows; aliasing chunkize to chunkize_serial\")\n"
     ]
    }
   ],
   "source": [
    "from gensim.models import word2vec\n",
    "import logging"
   ]
  },
  {
   "cell_type": "markdown",
   "metadata": {},
   "source": [
    "### Anstatt dass nur die message angezeigt wird, wird auch noch datum, uhrzeit und das Level auf dem das Program sich befindet angezeigt. Dazu ist die Logging library gut, die zeigt dann direkt an, beim Trainieren des Modells wie lange alles dauert."
   ]
  },
  {
   "cell_type": "code",
   "execution_count": 2,
   "metadata": {
    "collapsed": true
   },
   "outputs": [],
   "source": [
    "logging.basicConfig(format='%(asctime)s : %(levelname)s : %(message)s', level=logging.INFO)"
   ]
  },
  {
   "cell_type": "markdown",
   "metadata": {},
   "source": [
    "### Hier werden die Sätze auf denen das Modell trainiert wird eingelesen."
   ]
  },
  {
   "cell_type": "code",
   "execution_count": 3,
   "metadata": {
    "collapsed": true
   },
   "outputs": [],
   "source": [
    "sentences = word2vec.Text8Corpus('C:/Users/Merlin/Desktop/text8')"
   ]
  },
  {
   "cell_type": "markdown",
   "metadata": {},
   "source": [
    "### Hier wird das Modell trainiert, das dauert ein bisschen... Aber sobald einmal das Modell trainiert ist, werden Resultate für Eingaben ganz schnell ausgegeben"
   ]
  },
  {
   "cell_type": "code",
   "execution_count": 4,
   "metadata": {},
   "outputs": [
    {
     "name": "stderr",
     "output_type": "stream",
     "text": [
      "2018-02-18 18:26:00,684 : INFO : collecting all words and their counts\n",
      "2018-02-18 18:26:00,980 : INFO : PROGRESS: at sentence #0, processed 0 words, keeping 0 word types\n",
      "2018-02-18 18:26:27,075 : INFO : collected 253854 word types from a corpus of 17005207 raw words and 1701 sentences\n",
      "2018-02-18 18:26:27,075 : INFO : Loading a fresh vocabulary\n",
      "2018-02-18 18:26:28,341 : INFO : min_count=5 retains 71290 unique words (28% of original 253854, drops 182564)\n",
      "2018-02-18 18:26:28,341 : INFO : min_count=5 leaves 16718844 word corpus (98% of original 17005207, drops 286363)\n",
      "2018-02-18 18:26:30,107 : INFO : deleting the raw counts dictionary of 253854 items\n",
      "2018-02-18 18:26:30,154 : INFO : sample=0.001 downsamples 38 most-common words\n",
      "2018-02-18 18:26:30,154 : INFO : downsampling leaves estimated 12506280 word corpus (74.8% of prior 16718844)\n",
      "2018-02-18 18:26:30,169 : INFO : estimated required memory for 71290 words and 200 dimensions: 149709000 bytes\n",
      "2018-02-18 18:26:31,404 : INFO : resetting layer weights\n",
      "2018-02-18 18:26:39,967 : INFO : training model with 3 workers on 71290 vocabulary and 200 features, using sg=0 hs=0 sample=0.001 negative=5 window=5\n",
      "2018-02-18 18:26:41,045 : INFO : PROGRESS: at 0.20% examples, 124085 words/s, in_qsize 6, out_qsize 0\n",
      "2018-02-18 18:26:42,061 : INFO : PROGRESS: at 0.53% examples, 163805 words/s, in_qsize 6, out_qsize 0\n",
      "2018-02-18 18:26:43,092 : INFO : PROGRESS: at 0.88% examples, 180175 words/s, in_qsize 5, out_qsize 0\n",
      "2018-02-18 18:26:44,123 : INFO : PROGRESS: at 1.25% examples, 189315 words/s, in_qsize 6, out_qsize 0\n",
      "2018-02-18 18:26:45,154 : INFO : PROGRESS: at 1.61% examples, 195346 words/s, in_qsize 6, out_qsize 0\n",
      "2018-02-18 18:26:46,186 : INFO : PROGRESS: at 1.98% examples, 198881 words/s, in_qsize 5, out_qsize 0\n",
      "2018-02-18 18:26:47,201 : INFO : PROGRESS: at 2.33% examples, 201456 words/s, in_qsize 6, out_qsize 0\n",
      "2018-02-18 18:26:48,233 : INFO : PROGRESS: at 2.68% examples, 203197 words/s, in_qsize 5, out_qsize 0\n",
      "2018-02-18 18:26:49,295 : INFO : PROGRESS: at 3.03% examples, 203424 words/s, in_qsize 5, out_qsize 0\n",
      "2018-02-18 18:26:50,342 : INFO : PROGRESS: at 3.39% examples, 204289 words/s, in_qsize 6, out_qsize 0\n",
      "2018-02-18 18:26:51,358 : INFO : PROGRESS: at 3.73% examples, 204785 words/s, in_qsize 6, out_qsize 0\n",
      "2018-02-18 18:26:52,374 : INFO : PROGRESS: at 4.07% examples, 205176 words/s, in_qsize 6, out_qsize 0\n",
      "2018-02-18 18:26:53,405 : INFO : PROGRESS: at 4.43% examples, 206476 words/s, in_qsize 5, out_qsize 0\n",
      "2018-02-18 18:26:54,436 : INFO : PROGRESS: at 4.76% examples, 206324 words/s, in_qsize 6, out_qsize 0\n",
      "2018-02-18 18:26:55,467 : INFO : PROGRESS: at 5.11% examples, 206647 words/s, in_qsize 5, out_qsize 0\n",
      "2018-02-18 18:26:56,499 : INFO : PROGRESS: at 5.43% examples, 205950 words/s, in_qsize 6, out_qsize 0\n",
      "2018-02-18 18:26:57,546 : INFO : PROGRESS: at 5.78% examples, 206390 words/s, in_qsize 5, out_qsize 0\n",
      "2018-02-18 18:26:58,546 : INFO : PROGRESS: at 6.09% examples, 205712 words/s, in_qsize 6, out_qsize 0\n",
      "2018-02-18 18:26:59,593 : INFO : PROGRESS: at 6.41% examples, 204916 words/s, in_qsize 6, out_qsize 0\n",
      "2018-02-18 18:27:00,640 : INFO : PROGRESS: at 6.74% examples, 204758 words/s, in_qsize 5, out_qsize 0\n",
      "2018-02-18 18:27:01,671 : INFO : PROGRESS: at 7.05% examples, 204232 words/s, in_qsize 5, out_qsize 0\n",
      "2018-02-18 18:27:02,671 : INFO : PROGRESS: at 7.37% examples, 204039 words/s, in_qsize 5, out_qsize 0\n",
      "2018-02-18 18:27:03,733 : INFO : PROGRESS: at 7.72% examples, 204181 words/s, in_qsize 5, out_qsize 0\n",
      "2018-02-18 18:27:04,780 : INFO : PROGRESS: at 8.07% examples, 204232 words/s, in_qsize 5, out_qsize 0\n",
      "2018-02-18 18:27:05,780 : INFO : PROGRESS: at 8.40% examples, 204332 words/s, in_qsize 5, out_qsize 0\n",
      "2018-02-18 18:27:06,796 : INFO : PROGRESS: at 8.68% examples, 203210 words/s, in_qsize 5, out_qsize 0\n",
      "2018-02-18 18:27:07,843 : INFO : PROGRESS: at 9.02% examples, 203147 words/s, in_qsize 5, out_qsize 0\n",
      "2018-02-18 18:27:08,906 : INFO : PROGRESS: at 9.37% examples, 203471 words/s, in_qsize 5, out_qsize 0\n",
      "2018-02-18 18:27:09,906 : INFO : PROGRESS: at 9.71% examples, 203807 words/s, in_qsize 5, out_qsize 0\n",
      "2018-02-18 18:27:10,937 : INFO : PROGRESS: at 10.06% examples, 204167 words/s, in_qsize 6, out_qsize 0\n",
      "2018-02-18 18:27:11,953 : INFO : PROGRESS: at 10.39% examples, 204136 words/s, in_qsize 5, out_qsize 0\n",
      "2018-02-18 18:27:12,953 : INFO : PROGRESS: at 10.73% examples, 204393 words/s, in_qsize 5, out_qsize 0\n",
      "2018-02-18 18:27:13,968 : INFO : PROGRESS: at 11.08% examples, 204663 words/s, in_qsize 6, out_qsize 0\n",
      "2018-02-18 18:27:14,984 : INFO : PROGRESS: at 11.43% examples, 205010 words/s, in_qsize 5, out_qsize 0\n",
      "2018-02-18 18:27:16,015 : INFO : PROGRESS: at 11.78% examples, 205248 words/s, in_qsize 5, out_qsize 0\n",
      "2018-02-18 18:27:17,078 : INFO : PROGRESS: at 12.13% examples, 205403 words/s, in_qsize 5, out_qsize 0\n",
      "2018-02-18 18:27:18,109 : INFO : PROGRESS: at 12.49% examples, 205637 words/s, in_qsize 5, out_qsize 0\n",
      "2018-02-18 18:27:19,125 : INFO : PROGRESS: at 12.83% examples, 205793 words/s, in_qsize 6, out_qsize 0\n",
      "2018-02-18 18:27:20,140 : INFO : PROGRESS: at 13.17% examples, 205837 words/s, in_qsize 5, out_qsize 0\n",
      "2018-02-18 18:27:21,156 : INFO : PROGRESS: at 13.52% examples, 206132 words/s, in_qsize 5, out_qsize 0\n",
      "2018-02-18 18:27:22,172 : INFO : PROGRESS: at 13.87% examples, 206460 words/s, in_qsize 5, out_qsize 0\n",
      "2018-02-18 18:27:23,203 : INFO : PROGRESS: at 14.23% examples, 206660 words/s, in_qsize 5, out_qsize 0\n",
      "2018-02-18 18:27:24,234 : INFO : PROGRESS: at 14.59% examples, 207025 words/s, in_qsize 6, out_qsize 0\n",
      "2018-02-18 18:27:25,281 : INFO : PROGRESS: at 14.96% examples, 207291 words/s, in_qsize 5, out_qsize 0\n",
      "2018-02-18 18:27:26,297 : INFO : PROGRESS: at 15.33% examples, 207541 words/s, in_qsize 5, out_qsize 0\n",
      "2018-02-18 18:27:27,297 : INFO : PROGRESS: at 15.68% examples, 207699 words/s, in_qsize 5, out_qsize 0\n",
      "2018-02-18 18:27:28,375 : INFO : PROGRESS: at 16.05% examples, 207790 words/s, in_qsize 5, out_qsize 0\n",
      "2018-02-18 18:27:29,391 : INFO : PROGRESS: at 16.41% examples, 208143 words/s, in_qsize 6, out_qsize 0\n",
      "2018-02-18 18:27:30,391 : INFO : PROGRESS: at 16.75% examples, 208226 words/s, in_qsize 5, out_qsize 0\n",
      "2018-02-18 18:27:31,438 : INFO : PROGRESS: at 17.11% examples, 208302 words/s, in_qsize 6, out_qsize 0\n",
      "2018-02-18 18:27:32,438 : INFO : PROGRESS: at 17.47% examples, 208622 words/s, in_qsize 5, out_qsize 0\n",
      "2018-02-18 18:27:33,454 : INFO : PROGRESS: at 17.81% examples, 208689 words/s, in_qsize 6, out_qsize 0\n",
      "2018-02-18 18:27:34,485 : INFO : PROGRESS: at 18.17% examples, 208799 words/s, in_qsize 6, out_qsize 0\n",
      "2018-02-18 18:27:35,532 : INFO : PROGRESS: at 18.53% examples, 208915 words/s, in_qsize 5, out_qsize 0\n",
      "2018-02-18 18:27:36,548 : INFO : PROGRESS: at 18.88% examples, 209049 words/s, in_qsize 6, out_qsize 0\n",
      "2018-02-18 18:27:37,563 : INFO : PROGRESS: at 19.24% examples, 209192 words/s, in_qsize 5, out_qsize 0\n",
      "2018-02-18 18:27:38,563 : INFO : PROGRESS: at 19.59% examples, 209312 words/s, in_qsize 6, out_qsize 0\n",
      "2018-02-18 18:27:39,579 : INFO : PROGRESS: at 19.93% examples, 209375 words/s, in_qsize 6, out_qsize 0\n",
      "2018-02-18 18:27:40,595 : INFO : PROGRESS: at 20.29% examples, 209559 words/s, in_qsize 5, out_qsize 0\n",
      "2018-02-18 18:27:41,610 : INFO : PROGRESS: at 20.65% examples, 209701 words/s, in_qsize 4, out_qsize 0\n",
      "2018-02-18 18:27:42,626 : INFO : PROGRESS: at 21.00% examples, 209772 words/s, in_qsize 5, out_qsize 0\n",
      "2018-02-18 18:27:43,673 : INFO : PROGRESS: at 21.36% examples, 209833 words/s, in_qsize 5, out_qsize 0\n",
      "2018-02-18 18:27:44,689 : INFO : PROGRESS: at 21.72% examples, 209931 words/s, in_qsize 6, out_qsize 0\n",
      "2018-02-18 18:27:45,704 : INFO : PROGRESS: at 22.07% examples, 210011 words/s, in_qsize 6, out_qsize 0\n",
      "2018-02-18 18:27:46,736 : INFO : PROGRESS: at 22.42% examples, 210062 words/s, in_qsize 5, out_qsize 0\n",
      "2018-02-18 18:27:47,736 : INFO : PROGRESS: at 22.77% examples, 210199 words/s, in_qsize 5, out_qsize 0\n",
      "2018-02-18 18:27:48,751 : INFO : PROGRESS: at 23.10% examples, 210061 words/s, in_qsize 6, out_qsize 0\n",
      "2018-02-18 18:27:49,783 : INFO : PROGRESS: at 23.41% examples, 209713 words/s, in_qsize 6, out_qsize 0\n",
      "2018-02-18 18:27:50,814 : INFO : PROGRESS: at 23.72% examples, 209392 words/s, in_qsize 5, out_qsize 0\n"
     ]
    },
    {
     "name": "stderr",
     "output_type": "stream",
     "text": [
      "2018-02-18 18:27:51,830 : INFO : PROGRESS: at 24.06% examples, 209374 words/s, in_qsize 6, out_qsize 0\n",
      "2018-02-18 18:27:52,830 : INFO : PROGRESS: at 24.39% examples, 209328 words/s, in_qsize 6, out_qsize 0\n",
      "2018-02-18 18:27:53,876 : INFO : PROGRESS: at 24.74% examples, 209397 words/s, in_qsize 6, out_qsize 0\n",
      "2018-02-18 18:27:54,908 : INFO : PROGRESS: at 25.10% examples, 209551 words/s, in_qsize 6, out_qsize 0\n",
      "2018-02-18 18:27:55,923 : INFO : PROGRESS: at 25.46% examples, 209697 words/s, in_qsize 5, out_qsize 0\n",
      "2018-02-18 18:27:56,939 : INFO : PROGRESS: at 25.80% examples, 209737 words/s, in_qsize 6, out_qsize 0\n",
      "2018-02-18 18:27:57,970 : INFO : PROGRESS: at 26.15% examples, 209830 words/s, in_qsize 5, out_qsize 0\n",
      "2018-02-18 18:27:59,002 : INFO : PROGRESS: at 26.47% examples, 209638 words/s, in_qsize 5, out_qsize 0\n",
      "2018-02-18 18:28:00,017 : INFO : PROGRESS: at 26.80% examples, 209594 words/s, in_qsize 5, out_qsize 1\n",
      "2018-02-18 18:28:01,080 : INFO : PROGRESS: at 27.14% examples, 209521 words/s, in_qsize 5, out_qsize 0\n",
      "2018-02-18 18:28:02,080 : INFO : PROGRESS: at 27.44% examples, 209304 words/s, in_qsize 5, out_qsize 0\n",
      "2018-02-18 18:28:03,096 : INFO : PROGRESS: at 27.78% examples, 209287 words/s, in_qsize 6, out_qsize 0\n",
      "2018-02-18 18:28:04,189 : INFO : PROGRESS: at 28.10% examples, 208944 words/s, in_qsize 6, out_qsize 0\n",
      "2018-02-18 18:28:05,205 : INFO : PROGRESS: at 28.38% examples, 208550 words/s, in_qsize 5, out_qsize 0\n",
      "2018-02-18 18:28:06,205 : INFO : PROGRESS: at 28.70% examples, 208422 words/s, in_qsize 6, out_qsize 0\n",
      "2018-02-18 18:28:07,221 : INFO : PROGRESS: at 28.99% examples, 208135 words/s, in_qsize 5, out_qsize 0\n",
      "2018-02-18 18:28:08,299 : INFO : PROGRESS: at 29.30% examples, 207765 words/s, in_qsize 6, out_qsize 0\n",
      "2018-02-18 18:28:09,346 : INFO : PROGRESS: at 29.64% examples, 207723 words/s, in_qsize 6, out_qsize 0\n",
      "2018-02-18 18:28:10,346 : INFO : PROGRESS: at 29.99% examples, 207874 words/s, in_qsize 5, out_qsize 0\n",
      "2018-02-18 18:28:11,393 : INFO : PROGRESS: at 30.36% examples, 207979 words/s, in_qsize 5, out_qsize 0\n",
      "2018-02-18 18:28:12,409 : INFO : PROGRESS: at 30.71% examples, 208080 words/s, in_qsize 5, out_qsize 0\n",
      "2018-02-18 18:28:13,440 : INFO : PROGRESS: at 31.06% examples, 208201 words/s, in_qsize 5, out_qsize 0\n",
      "2018-02-18 18:28:14,456 : INFO : PROGRESS: at 31.43% examples, 208347 words/s, in_qsize 5, out_qsize 0\n",
      "2018-02-18 18:28:15,503 : INFO : PROGRESS: at 31.78% examples, 208397 words/s, in_qsize 6, out_qsize 0\n",
      "2018-02-18 18:28:16,549 : INFO : PROGRESS: at 32.13% examples, 208443 words/s, in_qsize 5, out_qsize 0\n",
      "2018-02-18 18:28:17,565 : INFO : PROGRESS: at 32.46% examples, 208374 words/s, in_qsize 6, out_qsize 0\n",
      "2018-02-18 18:28:18,612 : INFO : PROGRESS: at 32.79% examples, 208252 words/s, in_qsize 5, out_qsize 0\n",
      "2018-02-18 18:28:19,612 : INFO : PROGRESS: at 33.13% examples, 208283 words/s, in_qsize 5, out_qsize 0\n",
      "2018-02-18 18:28:20,643 : INFO : PROGRESS: at 33.46% examples, 208205 words/s, in_qsize 5, out_qsize 0\n",
      "2018-02-18 18:28:21,706 : INFO : PROGRESS: at 33.79% examples, 208078 words/s, in_qsize 5, out_qsize 0\n",
      "2018-02-18 18:28:22,722 : INFO : PROGRESS: at 34.06% examples, 207665 words/s, in_qsize 6, out_qsize 0\n",
      "2018-02-18 18:28:23,737 : INFO : PROGRESS: at 34.37% examples, 207495 words/s, in_qsize 5, out_qsize 0\n",
      "2018-02-18 18:28:24,753 : INFO : PROGRESS: at 34.70% examples, 207464 words/s, in_qsize 6, out_qsize 0\n",
      "2018-02-18 18:28:25,753 : INFO : PROGRESS: at 35.04% examples, 207455 words/s, in_qsize 5, out_qsize 0\n",
      "2018-02-18 18:28:26,753 : INFO : PROGRESS: at 35.37% examples, 207351 words/s, in_qsize 5, out_qsize 0\n",
      "2018-02-18 18:28:27,816 : INFO : PROGRESS: at 35.72% examples, 207323 words/s, in_qsize 5, out_qsize 0\n",
      "2018-02-18 18:28:28,847 : INFO : PROGRESS: at 36.05% examples, 207263 words/s, in_qsize 5, out_qsize 0\n",
      "2018-02-18 18:28:29,915 : INFO : PROGRESS: at 36.38% examples, 207106 words/s, in_qsize 5, out_qsize 0\n",
      "2018-02-18 18:28:30,962 : INFO : PROGRESS: at 36.71% examples, 206996 words/s, in_qsize 5, out_qsize 0\n",
      "2018-02-18 18:28:31,993 : INFO : PROGRESS: at 37.05% examples, 207006 words/s, in_qsize 6, out_qsize 0\n",
      "2018-02-18 18:28:33,025 : INFO : PROGRESS: at 37.38% examples, 206910 words/s, in_qsize 5, out_qsize 0\n",
      "2018-02-18 18:28:34,056 : INFO : PROGRESS: at 37.70% examples, 206813 words/s, in_qsize 5, out_qsize 1\n",
      "2018-02-18 18:28:35,056 : INFO : PROGRESS: at 38.00% examples, 206693 words/s, in_qsize 6, out_qsize 0\n",
      "2018-02-18 18:28:36,072 : INFO : PROGRESS: at 38.28% examples, 206364 words/s, in_qsize 6, out_qsize 0\n",
      "2018-02-18 18:28:37,087 : INFO : PROGRESS: at 38.57% examples, 206069 words/s, in_qsize 5, out_qsize 0\n",
      "2018-02-18 18:28:38,103 : INFO : PROGRESS: at 38.89% examples, 206038 words/s, in_qsize 4, out_qsize 0\n",
      "2018-02-18 18:28:39,103 : INFO : PROGRESS: at 39.18% examples, 205786 words/s, in_qsize 5, out_qsize 0\n",
      "2018-02-18 18:28:40,119 : INFO : PROGRESS: at 39.49% examples, 205673 words/s, in_qsize 5, out_qsize 0\n",
      "2018-02-18 18:28:41,150 : INFO : PROGRESS: at 39.80% examples, 205501 words/s, in_qsize 5, out_qsize 0\n",
      "2018-02-18 18:28:42,228 : INFO : PROGRESS: at 40.12% examples, 205325 words/s, in_qsize 5, out_qsize 0\n",
      "2018-02-18 18:28:43,259 : INFO : PROGRESS: at 40.41% examples, 205086 words/s, in_qsize 5, out_qsize 0\n",
      "2018-02-18 18:28:44,291 : INFO : PROGRESS: at 40.71% examples, 204872 words/s, in_qsize 6, out_qsize 0\n",
      "2018-02-18 18:28:45,291 : INFO : PROGRESS: at 41.02% examples, 204791 words/s, in_qsize 5, out_qsize 0\n",
      "2018-02-18 18:28:46,306 : INFO : PROGRESS: at 41.31% examples, 204501 words/s, in_qsize 6, out_qsize 0\n",
      "2018-02-18 18:28:47,338 : INFO : PROGRESS: at 41.60% examples, 204274 words/s, in_qsize 5, out_qsize 0\n",
      "2018-02-18 18:28:48,369 : INFO : PROGRESS: at 41.88% examples, 204015 words/s, in_qsize 5, out_qsize 0\n",
      "2018-02-18 18:28:49,400 : INFO : PROGRESS: at 42.22% examples, 204009 words/s, in_qsize 6, out_qsize 0\n",
      "2018-02-18 18:28:50,432 : INFO : PROGRESS: at 42.56% examples, 204040 words/s, in_qsize 5, out_qsize 0\n",
      "2018-02-18 18:28:51,463 : INFO : PROGRESS: at 42.90% examples, 204045 words/s, in_qsize 6, out_qsize 0\n",
      "2018-02-18 18:28:52,479 : INFO : PROGRESS: at 43.22% examples, 203974 words/s, in_qsize 6, out_qsize 0\n",
      "2018-02-18 18:28:53,510 : INFO : PROGRESS: at 43.50% examples, 203739 words/s, in_qsize 5, out_qsize 0\n",
      "2018-02-18 18:28:54,541 : INFO : PROGRESS: at 43.81% examples, 203585 words/s, in_qsize 6, out_qsize 0\n",
      "2018-02-18 18:28:55,573 : INFO : PROGRESS: at 44.16% examples, 203670 words/s, in_qsize 6, out_qsize 0\n",
      "2018-02-18 18:28:56,568 : INFO : PROGRESS: at 44.48% examples, 203627 words/s, in_qsize 5, out_qsize 0\n",
      "2018-02-18 18:28:57,600 : INFO : PROGRESS: at 44.75% examples, 203386 words/s, in_qsize 5, out_qsize 0\n",
      "2018-02-18 18:28:58,600 : INFO : PROGRESS: at 45.04% examples, 203214 words/s, in_qsize 5, out_qsize 0\n",
      "2018-02-18 18:28:59,615 : INFO : PROGRESS: at 45.31% examples, 202974 words/s, in_qsize 5, out_qsize 0\n",
      "2018-02-18 18:29:00,647 : INFO : PROGRESS: at 45.62% examples, 202863 words/s, in_qsize 6, out_qsize 0\n",
      "2018-02-18 18:29:01,662 : INFO : PROGRESS: at 45.90% examples, 202678 words/s, in_qsize 6, out_qsize 0\n",
      "2018-02-18 18:29:02,662 : INFO : PROGRESS: at 46.17% examples, 202456 words/s, in_qsize 6, out_qsize 0\n",
      "2018-02-18 18:29:03,678 : INFO : PROGRESS: at 46.49% examples, 202427 words/s, in_qsize 5, out_qsize 0\n",
      "2018-02-18 18:29:04,678 : INFO : PROGRESS: at 46.82% examples, 202466 words/s, in_qsize 5, out_qsize 0\n",
      "2018-02-18 18:29:05,678 : INFO : PROGRESS: at 47.15% examples, 202504 words/s, in_qsize 5, out_qsize 0\n",
      "2018-02-18 18:29:06,725 : INFO : PROGRESS: at 47.44% examples, 202307 words/s, in_qsize 5, out_qsize 0\n",
      "2018-02-18 18:29:07,756 : INFO : PROGRESS: at 47.76% examples, 202246 words/s, in_qsize 5, out_qsize 0\n",
      "2018-02-18 18:29:08,772 : INFO : PROGRESS: at 48.07% examples, 202154 words/s, in_qsize 6, out_qsize 0\n",
      "2018-02-18 18:29:09,788 : INFO : PROGRESS: at 48.41% examples, 202209 words/s, in_qsize 6, out_qsize 0\n",
      "2018-02-18 18:29:10,803 : INFO : PROGRESS: at 48.72% examples, 202170 words/s, in_qsize 6, out_qsize 0\n",
      "2018-02-18 18:29:11,807 : INFO : PROGRESS: at 49.04% examples, 202145 words/s, in_qsize 6, out_qsize 0\n",
      "2018-02-18 18:29:12,807 : INFO : PROGRESS: at 49.36% examples, 202129 words/s, in_qsize 5, out_qsize 0\n"
     ]
    },
    {
     "name": "stderr",
     "output_type": "stream",
     "text": [
      "2018-02-18 18:29:13,820 : INFO : PROGRESS: at 49.66% examples, 202047 words/s, in_qsize 5, out_qsize 0\n",
      "2018-02-18 18:29:14,835 : INFO : PROGRESS: at 50.01% examples, 202112 words/s, in_qsize 5, out_qsize 0\n",
      "2018-02-18 18:29:15,867 : INFO : PROGRESS: at 50.34% examples, 202097 words/s, in_qsize 6, out_qsize 0\n",
      "2018-02-18 18:29:16,913 : INFO : PROGRESS: at 50.68% examples, 202115 words/s, in_qsize 5, out_qsize 0\n",
      "2018-02-18 18:29:17,931 : INFO : PROGRESS: at 51.01% examples, 202128 words/s, in_qsize 5, out_qsize 0\n",
      "2018-02-18 18:29:18,932 : INFO : PROGRESS: at 51.31% examples, 202054 words/s, in_qsize 6, out_qsize 0\n",
      "2018-02-18 18:29:19,964 : INFO : PROGRESS: at 51.64% examples, 202042 words/s, in_qsize 6, out_qsize 0\n",
      "2018-02-18 18:29:21,011 : INFO : PROGRESS: at 51.96% examples, 201966 words/s, in_qsize 6, out_qsize 0\n",
      "2018-02-18 18:29:22,042 : INFO : PROGRESS: at 52.26% examples, 201873 words/s, in_qsize 5, out_qsize 0\n",
      "2018-02-18 18:29:23,042 : INFO : PROGRESS: at 52.60% examples, 201930 words/s, in_qsize 5, out_qsize 0\n",
      "2018-02-18 18:29:24,058 : INFO : PROGRESS: at 52.95% examples, 201983 words/s, in_qsize 6, out_qsize 0\n",
      "2018-02-18 18:29:25,105 : INFO : PROGRESS: at 53.26% examples, 201909 words/s, in_qsize 5, out_qsize 0\n",
      "2018-02-18 18:29:26,136 : INFO : PROGRESS: at 53.58% examples, 201850 words/s, in_qsize 5, out_qsize 0\n",
      "2018-02-18 18:29:27,152 : INFO : PROGRESS: at 53.90% examples, 201828 words/s, in_qsize 6, out_qsize 0\n",
      "2018-02-18 18:29:28,167 : INFO : PROGRESS: at 54.23% examples, 201840 words/s, in_qsize 5, out_qsize 0\n",
      "2018-02-18 18:29:29,183 : INFO : PROGRESS: at 54.52% examples, 201716 words/s, in_qsize 5, out_qsize 0\n",
      "2018-02-18 18:29:30,214 : INFO : PROGRESS: at 54.79% examples, 201486 words/s, in_qsize 6, out_qsize 0\n",
      "2018-02-18 18:29:31,261 : INFO : PROGRESS: at 55.12% examples, 201413 words/s, in_qsize 5, out_qsize 0\n",
      "2018-02-18 18:29:32,308 : INFO : PROGRESS: at 55.46% examples, 201371 words/s, in_qsize 6, out_qsize 0\n",
      "2018-02-18 18:29:33,324 : INFO : PROGRESS: at 55.74% examples, 201212 words/s, in_qsize 5, out_qsize 0\n",
      "2018-02-18 18:29:34,324 : INFO : PROGRESS: at 56.06% examples, 201184 words/s, in_qsize 5, out_qsize 0\n",
      "2018-02-18 18:29:35,340 : INFO : PROGRESS: at 56.38% examples, 201143 words/s, in_qsize 5, out_qsize 0\n",
      "2018-02-18 18:29:36,386 : INFO : PROGRESS: at 56.68% examples, 201046 words/s, in_qsize 6, out_qsize 0\n",
      "2018-02-18 18:29:37,402 : INFO : PROGRESS: at 56.95% examples, 200836 words/s, in_qsize 5, out_qsize 0\n",
      "2018-02-18 18:29:38,418 : INFO : PROGRESS: at 57.28% examples, 200861 words/s, in_qsize 5, out_qsize 0\n",
      "2018-02-18 18:29:39,480 : INFO : PROGRESS: at 57.61% examples, 200809 words/s, in_qsize 6, out_qsize 0\n",
      "2018-02-18 18:29:40,496 : INFO : PROGRESS: at 57.95% examples, 200865 words/s, in_qsize 5, out_qsize 0\n",
      "2018-02-18 18:29:41,512 : INFO : PROGRESS: at 58.27% examples, 200826 words/s, in_qsize 5, out_qsize 0\n",
      "2018-02-18 18:29:42,512 : INFO : PROGRESS: at 58.51% examples, 200522 words/s, in_qsize 6, out_qsize 0\n",
      "2018-02-18 18:29:43,512 : INFO : PROGRESS: at 58.84% examples, 200539 words/s, in_qsize 5, out_qsize 0\n",
      "2018-02-18 18:29:44,574 : INFO : PROGRESS: at 59.18% examples, 200551 words/s, in_qsize 5, out_qsize 0\n",
      "2018-02-18 18:29:45,574 : INFO : PROGRESS: at 59.51% examples, 200556 words/s, in_qsize 6, out_qsize 0\n",
      "2018-02-18 18:29:46,606 : INFO : PROGRESS: at 59.86% examples, 200621 words/s, in_qsize 5, out_qsize 0\n",
      "2018-02-18 18:29:47,637 : INFO : PROGRESS: at 60.20% examples, 200662 words/s, in_qsize 6, out_qsize 0\n",
      "2018-02-18 18:29:48,653 : INFO : PROGRESS: at 60.53% examples, 200678 words/s, in_qsize 6, out_qsize 0\n",
      "2018-02-18 18:29:49,668 : INFO : PROGRESS: at 60.87% examples, 200716 words/s, in_qsize 5, out_qsize 0\n",
      "2018-02-18 18:29:50,700 : INFO : PROGRESS: at 61.22% examples, 200766 words/s, in_qsize 6, out_qsize 0\n",
      "2018-02-18 18:29:51,715 : INFO : PROGRESS: at 61.58% examples, 200835 words/s, in_qsize 5, out_qsize 0\n",
      "2018-02-18 18:29:52,731 : INFO : PROGRESS: at 61.93% examples, 200916 words/s, in_qsize 5, out_qsize 0\n",
      "2018-02-18 18:29:53,747 : INFO : PROGRESS: at 62.27% examples, 200950 words/s, in_qsize 6, out_qsize 0\n",
      "2018-02-18 18:29:54,747 : INFO : PROGRESS: at 62.57% examples, 200893 words/s, in_qsize 5, out_qsize 0\n",
      "2018-02-18 18:29:55,747 : INFO : PROGRESS: at 62.85% examples, 200731 words/s, in_qsize 6, out_qsize 0\n",
      "2018-02-18 18:29:56,778 : INFO : PROGRESS: at 63.15% examples, 200651 words/s, in_qsize 5, out_qsize 0\n",
      "2018-02-18 18:29:57,794 : INFO : PROGRESS: at 63.47% examples, 200624 words/s, in_qsize 5, out_qsize 0\n",
      "2018-02-18 18:29:58,821 : INFO : PROGRESS: at 63.81% examples, 200655 words/s, in_qsize 5, out_qsize 0\n",
      "2018-02-18 18:29:59,836 : INFO : PROGRESS: at 64.14% examples, 200674 words/s, in_qsize 6, out_qsize 0\n",
      "2018-02-18 18:30:00,899 : INFO : PROGRESS: at 64.47% examples, 200627 words/s, in_qsize 6, out_qsize 0\n",
      "2018-02-18 18:30:01,915 : INFO : PROGRESS: at 64.74% examples, 200489 words/s, in_qsize 4, out_qsize 0\n",
      "2018-02-18 18:30:02,962 : INFO : PROGRESS: at 65.03% examples, 200351 words/s, in_qsize 6, out_qsize 0\n",
      "2018-02-18 18:30:03,962 : INFO : PROGRESS: at 65.29% examples, 200171 words/s, in_qsize 6, out_qsize 0\n",
      "2018-02-18 18:30:05,024 : INFO : PROGRESS: at 65.60% examples, 200080 words/s, in_qsize 6, out_qsize 0\n",
      "2018-02-18 18:30:06,024 : INFO : PROGRESS: at 65.88% examples, 199972 words/s, in_qsize 5, out_qsize 0\n",
      "2018-02-18 18:30:07,040 : INFO : PROGRESS: at 66.21% examples, 200006 words/s, in_qsize 5, out_qsize 0\n",
      "2018-02-18 18:30:08,040 : INFO : PROGRESS: at 66.50% examples, 199930 words/s, in_qsize 5, out_qsize 0\n",
      "2018-02-18 18:30:09,056 : INFO : PROGRESS: at 66.78% examples, 199827 words/s, in_qsize 5, out_qsize 0\n",
      "2018-02-18 18:30:10,118 : INFO : PROGRESS: at 67.05% examples, 199623 words/s, in_qsize 5, out_qsize 0\n",
      "2018-02-18 18:30:11,134 : INFO : PROGRESS: at 67.38% examples, 199640 words/s, in_qsize 5, out_qsize 0\n",
      "2018-02-18 18:30:12,149 : INFO : PROGRESS: at 67.68% examples, 199553 words/s, in_qsize 6, out_qsize 0\n",
      "2018-02-18 18:30:13,181 : INFO : PROGRESS: at 68.00% examples, 199522 words/s, in_qsize 6, out_qsize 0\n",
      "2018-02-18 18:30:14,228 : INFO : PROGRESS: at 68.35% examples, 199573 words/s, in_qsize 5, out_qsize 0\n",
      "2018-02-18 18:30:15,243 : INFO : PROGRESS: at 68.68% examples, 199606 words/s, in_qsize 5, out_qsize 0\n",
      "2018-02-18 18:30:16,259 : INFO : PROGRESS: at 69.01% examples, 199610 words/s, in_qsize 5, out_qsize 0\n",
      "2018-02-18 18:30:17,306 : INFO : PROGRESS: at 69.30% examples, 199506 words/s, in_qsize 5, out_qsize 0\n",
      "2018-02-18 18:30:18,337 : INFO : PROGRESS: at 69.62% examples, 199483 words/s, in_qsize 6, out_qsize 0\n",
      "2018-02-18 18:30:19,353 : INFO : PROGRESS: at 69.90% examples, 199366 words/s, in_qsize 6, out_qsize 0\n",
      "2018-02-18 18:30:20,400 : INFO : PROGRESS: at 70.22% examples, 199326 words/s, in_qsize 5, out_qsize 0\n",
      "2018-02-18 18:30:21,416 : INFO : PROGRESS: at 70.53% examples, 199305 words/s, in_qsize 6, out_qsize 0\n",
      "2018-02-18 18:30:22,447 : INFO : PROGRESS: at 70.82% examples, 199190 words/s, in_qsize 6, out_qsize 0\n",
      "2018-02-18 18:30:23,463 : INFO : PROGRESS: at 71.13% examples, 199178 words/s, in_qsize 5, out_qsize 0\n",
      "2018-02-18 18:30:24,478 : INFO : PROGRESS: at 71.46% examples, 199185 words/s, in_qsize 6, out_qsize 0\n",
      "2018-02-18 18:30:25,494 : INFO : PROGRESS: at 71.77% examples, 199148 words/s, in_qsize 5, out_qsize 0\n",
      "2018-02-18 18:30:26,510 : INFO : PROGRESS: at 72.08% examples, 199103 words/s, in_qsize 6, out_qsize 0\n",
      "2018-02-18 18:30:27,541 : INFO : PROGRESS: at 72.37% examples, 199001 words/s, in_qsize 5, out_qsize 0\n",
      "2018-02-18 18:30:28,619 : INFO : PROGRESS: at 72.67% examples, 198915 words/s, in_qsize 6, out_qsize 0\n",
      "2018-02-18 18:30:29,682 : INFO : PROGRESS: at 73.03% examples, 198941 words/s, in_qsize 5, out_qsize 0\n",
      "2018-02-18 18:30:30,713 : INFO : PROGRESS: at 73.35% examples, 198922 words/s, in_qsize 5, out_qsize 0\n",
      "2018-02-18 18:30:31,713 : INFO : PROGRESS: at 73.64% examples, 198858 words/s, in_qsize 5, out_qsize 0\n",
      "2018-02-18 18:30:32,729 : INFO : PROGRESS: at 73.93% examples, 198787 words/s, in_qsize 5, out_qsize 0\n",
      "2018-02-18 18:30:33,744 : INFO : PROGRESS: at 74.22% examples, 198685 words/s, in_qsize 5, out_qsize 0\n",
      "2018-02-18 18:30:34,744 : INFO : PROGRESS: at 74.53% examples, 198680 words/s, in_qsize 6, out_qsize 0\n"
     ]
    },
    {
     "name": "stderr",
     "output_type": "stream",
     "text": [
      "2018-02-18 18:30:35,776 : INFO : PROGRESS: at 74.87% examples, 198723 words/s, in_qsize 5, out_qsize 0\n",
      "2018-02-18 18:30:36,807 : INFO : PROGRESS: at 75.21% examples, 198711 words/s, in_qsize 5, out_qsize 0\n",
      "2018-02-18 18:30:37,838 : INFO : PROGRESS: at 75.57% examples, 198745 words/s, in_qsize 5, out_qsize 0\n",
      "2018-02-18 18:30:38,838 : INFO : PROGRESS: at 75.85% examples, 198650 words/s, in_qsize 6, out_qsize 0\n",
      "2018-02-18 18:30:39,838 : INFO : PROGRESS: at 76.18% examples, 198676 words/s, in_qsize 5, out_qsize 0\n",
      "2018-02-18 18:30:40,854 : INFO : PROGRESS: at 76.50% examples, 198655 words/s, in_qsize 5, out_qsize 0\n",
      "2018-02-18 18:30:41,901 : INFO : PROGRESS: at 76.79% examples, 198570 words/s, in_qsize 4, out_qsize 2\n",
      "2018-02-18 18:30:42,932 : INFO : PROGRESS: at 77.08% examples, 198475 words/s, in_qsize 5, out_qsize 0\n",
      "2018-02-18 18:30:44,010 : INFO : PROGRESS: at 77.40% examples, 198414 words/s, in_qsize 5, out_qsize 0\n",
      "2018-02-18 18:30:45,026 : INFO : PROGRESS: at 77.70% examples, 198345 words/s, in_qsize 5, out_qsize 0\n",
      "2018-02-18 18:30:46,042 : INFO : PROGRESS: at 78.01% examples, 198336 words/s, in_qsize 5, out_qsize 0\n",
      "2018-02-18 18:30:47,089 : INFO : PROGRESS: at 78.27% examples, 198138 words/s, in_qsize 5, out_qsize 0\n",
      "2018-02-18 18:30:48,120 : INFO : PROGRESS: at 78.58% examples, 198081 words/s, in_qsize 5, out_qsize 0\n",
      "2018-02-18 18:30:49,120 : INFO : PROGRESS: at 78.86% examples, 197986 words/s, in_qsize 5, out_qsize 0\n",
      "2018-02-18 18:30:50,167 : INFO : PROGRESS: at 79.14% examples, 197877 words/s, in_qsize 5, out_qsize 0\n",
      "2018-02-18 18:30:51,167 : INFO : PROGRESS: at 79.45% examples, 197831 words/s, in_qsize 5, out_qsize 0\n",
      "2018-02-18 18:30:52,230 : INFO : PROGRESS: at 79.80% examples, 197871 words/s, in_qsize 5, out_qsize 0\n",
      "2018-02-18 18:30:53,291 : INFO : PROGRESS: at 80.15% examples, 197917 words/s, in_qsize 6, out_qsize 0\n",
      "2018-02-18 18:30:54,292 : INFO : PROGRESS: at 80.49% examples, 197973 words/s, in_qsize 5, out_qsize 0\n",
      "2018-02-18 18:30:55,308 : INFO : PROGRESS: at 80.80% examples, 197925 words/s, in_qsize 5, out_qsize 1\n",
      "2018-02-18 18:30:56,370 : INFO : PROGRESS: at 81.14% examples, 197931 words/s, in_qsize 5, out_qsize 0\n",
      "2018-02-18 18:30:57,402 : INFO : PROGRESS: at 81.47% examples, 197915 words/s, in_qsize 4, out_qsize 0\n",
      "2018-02-18 18:30:58,433 : INFO : PROGRESS: at 81.80% examples, 197912 words/s, in_qsize 5, out_qsize 0\n",
      "2018-02-18 18:30:59,449 : INFO : PROGRESS: at 82.14% examples, 197964 words/s, in_qsize 6, out_qsize 0\n",
      "2018-02-18 18:31:00,447 : INFO : PROGRESS: at 82.45% examples, 197936 words/s, in_qsize 5, out_qsize 0\n",
      "2018-02-18 18:31:01,509 : INFO : PROGRESS: at 82.76% examples, 197893 words/s, in_qsize 5, out_qsize 0\n",
      "2018-02-18 18:31:02,509 : INFO : PROGRESS: at 83.07% examples, 197856 words/s, in_qsize 5, out_qsize 0\n",
      "2018-02-18 18:31:03,530 : INFO : PROGRESS: at 83.39% examples, 197849 words/s, in_qsize 5, out_qsize 0\n",
      "2018-02-18 18:31:04,530 : INFO : PROGRESS: at 83.72% examples, 197875 words/s, in_qsize 5, out_qsize 0\n",
      "2018-02-18 18:31:05,561 : INFO : PROGRESS: at 84.04% examples, 197884 words/s, in_qsize 5, out_qsize 0\n",
      "2018-02-18 18:31:06,561 : INFO : PROGRESS: at 84.35% examples, 197860 words/s, in_qsize 5, out_qsize 0\n",
      "2018-02-18 18:31:07,561 : INFO : PROGRESS: at 84.64% examples, 197809 words/s, in_qsize 5, out_qsize 0\n",
      "2018-02-18 18:31:08,577 : INFO : PROGRESS: at 84.94% examples, 197757 words/s, in_qsize 5, out_qsize 0\n",
      "2018-02-18 18:31:09,593 : INFO : PROGRESS: at 85.22% examples, 197674 words/s, in_qsize 6, out_qsize 0\n",
      "2018-02-18 18:31:10,639 : INFO : PROGRESS: at 85.54% examples, 197650 words/s, in_qsize 6, out_qsize 0\n",
      "2018-02-18 18:31:11,639 : INFO : PROGRESS: at 85.83% examples, 197605 words/s, in_qsize 6, out_qsize 0\n",
      "2018-02-18 18:31:12,686 : INFO : PROGRESS: at 86.14% examples, 197562 words/s, in_qsize 5, out_qsize 0\n",
      "2018-02-18 18:31:13,702 : INFO : PROGRESS: at 86.42% examples, 197484 words/s, in_qsize 5, out_qsize 0\n",
      "2018-02-18 18:31:14,718 : INFO : PROGRESS: at 86.74% examples, 197483 words/s, in_qsize 6, out_qsize 0\n",
      "2018-02-18 18:31:15,765 : INFO : PROGRESS: at 87.02% examples, 197380 words/s, in_qsize 5, out_qsize 0\n",
      "2018-02-18 18:31:16,765 : INFO : PROGRESS: at 87.33% examples, 197357 words/s, in_qsize 5, out_qsize 0\n",
      "2018-02-18 18:31:17,796 : INFO : PROGRESS: at 87.63% examples, 197325 words/s, in_qsize 5, out_qsize 0\n",
      "2018-02-18 18:31:18,796 : INFO : PROGRESS: at 87.97% examples, 197377 words/s, in_qsize 5, out_qsize 0\n",
      "2018-02-18 18:31:19,869 : INFO : PROGRESS: at 88.30% examples, 197357 words/s, in_qsize 6, out_qsize 0\n",
      "2018-02-18 18:31:20,869 : INFO : PROGRESS: at 88.63% examples, 197395 words/s, in_qsize 6, out_qsize 0\n",
      "2018-02-18 18:31:21,900 : INFO : PROGRESS: at 88.98% examples, 197455 words/s, in_qsize 6, out_qsize 0\n",
      "2018-02-18 18:31:22,900 : INFO : PROGRESS: at 89.27% examples, 197383 words/s, in_qsize 6, out_qsize 0\n",
      "2018-02-18 18:31:23,916 : INFO : PROGRESS: at 89.58% examples, 197377 words/s, in_qsize 6, out_qsize 0\n",
      "2018-02-18 18:31:24,963 : INFO : PROGRESS: at 89.92% examples, 197412 words/s, in_qsize 5, out_qsize 0\n",
      "2018-02-18 18:31:25,980 : INFO : PROGRESS: at 90.26% examples, 197453 words/s, in_qsize 5, out_qsize 0\n",
      "2018-02-18 18:31:26,996 : INFO : PROGRESS: at 90.58% examples, 197450 words/s, in_qsize 6, out_qsize 0\n",
      "2018-02-18 18:31:28,027 : INFO : PROGRESS: at 90.89% examples, 197419 words/s, in_qsize 5, out_qsize 0\n",
      "2018-02-18 18:31:29,027 : INFO : PROGRESS: at 91.18% examples, 197368 words/s, in_qsize 5, out_qsize 0\n",
      "2018-02-18 18:31:30,058 : INFO : PROGRESS: at 91.46% examples, 197273 words/s, in_qsize 5, out_qsize 0\n",
      "2018-02-18 18:31:31,090 : INFO : PROGRESS: at 91.76% examples, 197209 words/s, in_qsize 5, out_qsize 0\n",
      "2018-02-18 18:31:32,152 : INFO : PROGRESS: at 92.06% examples, 197154 words/s, in_qsize 6, out_qsize 0\n",
      "2018-02-18 18:31:33,183 : INFO : PROGRESS: at 92.32% examples, 197016 words/s, in_qsize 5, out_qsize 0\n",
      "2018-02-18 18:31:34,199 : INFO : PROGRESS: at 92.66% examples, 197057 words/s, in_qsize 6, out_qsize 0\n",
      "2018-02-18 18:31:35,262 : INFO : PROGRESS: at 92.99% examples, 197040 words/s, in_qsize 6, out_qsize 0\n",
      "2018-02-18 18:31:36,340 : INFO : PROGRESS: at 93.31% examples, 197004 words/s, in_qsize 5, out_qsize 0\n",
      "2018-02-18 18:31:37,355 : INFO : PROGRESS: at 93.62% examples, 196973 words/s, in_qsize 5, out_qsize 0\n",
      "2018-02-18 18:31:38,371 : INFO : PROGRESS: at 93.96% examples, 197016 words/s, in_qsize 6, out_qsize 0\n",
      "2018-02-18 18:31:39,387 : INFO : PROGRESS: at 94.29% examples, 197050 words/s, in_qsize 5, out_qsize 0\n",
      "2018-02-18 18:31:40,387 : INFO : PROGRESS: at 94.64% examples, 197123 words/s, in_qsize 6, out_qsize 0\n",
      "2018-02-18 18:31:41,403 : INFO : PROGRESS: at 94.98% examples, 197162 words/s, in_qsize 5, out_qsize 0\n",
      "2018-02-18 18:31:42,434 : INFO : PROGRESS: at 95.36% examples, 197229 words/s, in_qsize 5, out_qsize 0\n",
      "2018-02-18 18:31:43,450 : INFO : PROGRESS: at 95.67% examples, 197217 words/s, in_qsize 6, out_qsize 0\n",
      "2018-02-18 18:31:44,465 : INFO : PROGRESS: at 95.96% examples, 197138 words/s, in_qsize 6, out_qsize 0\n",
      "2018-02-18 18:31:45,481 : INFO : PROGRESS: at 96.27% examples, 197129 words/s, in_qsize 5, out_qsize 0\n",
      "2018-02-18 18:31:46,497 : INFO : PROGRESS: at 96.60% examples, 197135 words/s, in_qsize 6, out_qsize 0\n",
      "2018-02-18 18:31:47,512 : INFO : PROGRESS: at 96.91% examples, 197107 words/s, in_qsize 5, out_qsize 0\n",
      "2018-02-18 18:31:48,528 : INFO : PROGRESS: at 97.20% examples, 197063 words/s, in_qsize 5, out_qsize 0\n",
      "2018-02-18 18:31:49,528 : INFO : PROGRESS: at 97.52% examples, 197063 words/s, in_qsize 6, out_qsize 0\n",
      "2018-02-18 18:31:50,528 : INFO : PROGRESS: at 97.81% examples, 197025 words/s, in_qsize 6, out_qsize 0\n",
      "2018-02-18 18:31:51,559 : INFO : PROGRESS: at 98.13% examples, 197009 words/s, in_qsize 5, out_qsize 0\n",
      "2018-02-18 18:31:52,575 : INFO : PROGRESS: at 98.47% examples, 197036 words/s, in_qsize 5, out_qsize 0\n",
      "2018-02-18 18:31:53,622 : INFO : PROGRESS: at 98.84% examples, 197106 words/s, in_qsize 6, out_qsize 0\n",
      "2018-02-18 18:31:54,653 : INFO : PROGRESS: at 99.19% examples, 197165 words/s, in_qsize 6, out_qsize 0\n",
      "2018-02-18 18:31:55,684 : INFO : PROGRESS: at 99.52% examples, 197158 words/s, in_qsize 6, out_qsize 0\n",
      "2018-02-18 18:31:56,716 : INFO : PROGRESS: at 99.87% examples, 197214 words/s, in_qsize 6, out_qsize 0\n"
     ]
    },
    {
     "name": "stderr",
     "output_type": "stream",
     "text": [
      "2018-02-18 18:31:57,060 : INFO : worker thread finished; awaiting finish of 2 more threads\n",
      "2018-02-18 18:31:57,060 : INFO : worker thread finished; awaiting finish of 1 more threads\n",
      "2018-02-18 18:31:57,075 : INFO : worker thread finished; awaiting finish of 0 more threads\n",
      "2018-02-18 18:31:57,075 : INFO : training on 85026035 raw words (62533841 effective words) took 317.1s, 197236 effective words/s\n"
     ]
    }
   ],
   "source": [
    "model = word2vec.Word2Vec(sentences, size=200)"
   ]
  },
  {
   "cell_type": "markdown",
   "metadata": {},
   "source": [
    "### Jedes Wort wird dann zu einem Vektor, hier ist das z.B. der Vektor zum Wort 'dog'."
   ]
  },
  {
   "cell_type": "code",
   "execution_count": 5,
   "metadata": {
    "collapsed": true
   },
   "outputs": [],
   "source": [
    "c=model.wv['dog']"
   ]
  },
  {
   "cell_type": "code",
   "execution_count": 6,
   "metadata": {
    "scrolled": true
   },
   "outputs": [
    {
     "data": {
      "text/plain": [
       "array([-0.88576013, -0.10238078, -1.17881727, -0.15659811,  1.16604996,\n",
       "       -0.54832745,  1.82011962, -1.68078744, -0.49772963,  0.59995234,\n",
       "       -0.02535879,  0.05685812, -1.20090926,  0.75044662,  1.24508381,\n",
       "        0.06853943, -0.57512063, -0.46784073, -1.19146776,  0.33507514,\n",
       "        1.84497094, -0.04858647,  0.33671498, -2.09919763,  0.01368909,\n",
       "       -0.27994394, -0.11383917, -1.44069469,  0.06377786,  1.53952169,\n",
       "        0.23203169, -0.29014403, -0.96208143, -1.55819178,  0.37632403,\n",
       "        0.73642278,  0.88396698, -1.47860694,  1.7258321 ,  0.96281379,\n",
       "       -1.02900028,  1.83250284, -0.32056805, -1.48474944, -0.09746558,\n",
       "        0.23182496,  0.96762234,  1.56033146, -0.29585558,  0.11767779,\n",
       "        0.23441   ,  0.52428186, -0.74715054, -1.44630289, -0.08847997,\n",
       "       -1.37656975, -1.74954772, -0.00545506, -0.87603348, -0.37809271,\n",
       "       -0.71495384,  0.64890176, -1.19724047,  0.37006745,  0.04024225,\n",
       "        0.20185462, -0.19214737, -0.74176103, -0.61075872,  0.80198544,\n",
       "        0.86654586,  0.0985644 , -1.07357752, -1.68952966,  1.22727191,\n",
       "       -0.78324789, -0.13821989,  0.05265689, -0.26345706,  0.02306266,\n",
       "        0.90683478,  0.08941088, -1.16731644, -0.14307381, -0.90028781,\n",
       "       -0.0920893 ,  1.04476953, -0.0405924 ,  1.09360623, -0.91919291,\n",
       "        0.14543167,  0.75045335, -0.8559106 , -0.33022663,  0.58647686,\n",
       "        1.50404119,  0.19639269, -1.32935786,  0.03368963, -0.23879734,\n",
       "        0.80172789,  0.29071575,  1.09384882, -0.32464027,  0.48499572,\n",
       "        0.28383929,  2.01166105,  0.1770533 ,  0.54241961,  0.30920893,\n",
       "        0.78134429,  1.78947961,  0.08827561,  0.23842362,  0.00855609,\n",
       "       -1.14054167,  0.77742243, -1.34362388,  0.5608412 , -0.72581375,\n",
       "        0.24685584, -0.66377687, -1.00647545, -0.11725693, -0.63972205,\n",
       "       -0.0412337 , -1.00460911, -1.30772018,  0.36925307,  1.22844255,\n",
       "        0.86556309,  1.59830725,  0.80889827, -0.80363101, -0.34741226,\n",
       "        0.40375113, -0.24806429, -0.06585188,  0.21983857, -1.46097863,\n",
       "        0.23358399, -2.53193998, -0.94989473,  0.56482172, -1.44177938,\n",
       "        0.43446919,  0.27110514,  0.96828073, -0.76170677,  1.28735709,\n",
       "        1.62238324,  0.47169837,  0.83927256, -0.08348455, -0.36237842,\n",
       "        0.71996254, -0.29793423,  0.85852665, -0.74353045,  0.82413524,\n",
       "        0.63405329, -0.18027036,  0.99781179,  1.11471558,  0.26505151,\n",
       "       -0.63821542, -0.24635071,  0.35349762, -0.79642731, -1.51148868,\n",
       "        0.34141636,  0.30327213,  1.660092  , -0.86522782,  0.63169312,\n",
       "       -0.09757262, -0.05988673,  0.37430289,  0.70068055, -0.92738897,\n",
       "       -0.97814268, -1.04369998, -0.40917522,  0.29623488,  1.24205375,\n",
       "       -0.8913011 ,  0.30330339,  0.30700514, -1.1020056 , -0.0410505 ,\n",
       "       -0.80562395, -1.29604137, -0.43561026,  0.45870274, -0.48891798,\n",
       "       -0.89027381, -0.63347977, -1.14680207, -1.13893664,  1.5985992 ], dtype=float32)"
      ]
     },
     "execution_count": 6,
     "metadata": {},
     "output_type": "execute_result"
    }
   ],
   "source": [
    "c"
   ]
  },
  {
   "cell_type": "markdown",
   "metadata": {},
   "source": [
    "### Der Vektor hat 200 Einträge, das wurde im Schritt [4] so gewählt (Dimension zwischen 100 bis 200 ist standard)."
   ]
  },
  {
   "cell_type": "code",
   "execution_count": 7,
   "metadata": {},
   "outputs": [
    {
     "data": {
      "text/plain": [
       "(200,)"
      ]
     },
     "execution_count": 7,
     "metadata": {},
     "output_type": "execute_result"
    }
   ],
   "source": [
    "c.shape"
   ]
  },
  {
   "cell_type": "markdown",
   "metadata": {},
   "source": [
    "### Hier suchen wir Analogien, also nach dem Shema: man is to woman as king is to ??? .... also richtig wäre queen."
   ]
  },
  {
   "cell_type": "code",
   "execution_count": 10,
   "metadata": {},
   "outputs": [
    {
     "data": {
      "text/plain": [
       "[('queen', 0.6584073901176453), ('princess', 0.5984921455383301)]"
      ]
     },
     "execution_count": 10,
     "metadata": {},
     "output_type": "execute_result"
    }
   ],
   "source": [
    "model.most_similar(positive=['king','woman'], negative=['man'], topn=2)"
   ]
  },
  {
   "cell_type": "code",
   "execution_count": 12,
   "metadata": {},
   "outputs": [
    {
     "data": {
      "text/plain": [
       "[('watts', 0.4296296238899231)]"
      ]
     },
     "execution_count": 12,
     "metadata": {},
     "output_type": "execute_result"
    }
   ],
   "source": [
    "model.most_similar(positive=['sunshine','man'], negative=['dog'], topn=1)"
   ]
  },
  {
   "cell_type": "markdown",
   "metadata": {},
   "source": [
    "### Die zu 'frog' ähnlichsten Wörter"
   ]
  },
  {
   "cell_type": "code",
   "execution_count": 13,
   "metadata": {
    "scrolled": true
   },
   "outputs": [
    {
     "data": {
      "text/plain": [
       "[('shark', 0.8096588850021362),\n",
       " ('plum', 0.7764387130737305),\n",
       " ('pink', 0.7697155475616455),\n",
       " ('pig', 0.7632468938827515),\n",
       " ('crab', 0.7548764944076538),\n",
       " ('feather', 0.7507184743881226),\n",
       " ('rat', 0.7491806149482727),\n",
       " ('goose', 0.7486920356750488),\n",
       " ('rabbit', 0.7483101487159729),\n",
       " ('eyed', 0.7455858588218689)]"
      ]
     },
     "execution_count": 13,
     "metadata": {},
     "output_type": "execute_result"
    }
   ],
   "source": [
    "model.most_similar(['frog'])"
   ]
  },
  {
   "cell_type": "markdown",
   "metadata": {},
   "source": [
    "### Man kann die Modelle auch abspeichern und wieder neu laden, man erspart sich dadurch das Training, das bei grösseren Texten länger dauern kann"
   ]
  },
  {
   "cell_type": "code",
   "execution_count": 14,
   "metadata": {},
   "outputs": [
    {
     "name": "stderr",
     "output_type": "stream",
     "text": [
      "2018-02-18 18:46:17,535 : INFO : saving Word2Vec object under text8.model, separately None\n",
      "2018-02-18 18:46:17,550 : INFO : storing np array 'syn0' to text8.model.wv.syn0.npy\n",
      "2018-02-18 18:46:18,347 : INFO : not storing attribute syn0norm\n",
      "2018-02-18 18:46:18,347 : INFO : storing np array 'syn1neg' to text8.model.syn1neg.npy\n",
      "2018-02-18 18:46:19,035 : INFO : not storing attribute cum_table\n",
      "2018-02-18 18:46:20,090 : INFO : saved text8.model\n"
     ]
    }
   ],
   "source": [
    "model.save('text8.model')"
   ]
  },
  {
   "cell_type": "code",
   "execution_count": 15,
   "metadata": {
    "scrolled": true
   },
   "outputs": [
    {
     "name": "stderr",
     "output_type": "stream",
     "text": [
      "2018-02-18 18:46:21,894 : INFO : storing 71290x200 projection weights into text.model.bin\n"
     ]
    }
   ],
   "source": [
    "model.wv.save_word2vec_format('text.model.bin', binary=True)"
   ]
  },
  {
   "cell_type": "code",
   "execution_count": 17,
   "metadata": {
    "collapsed": true
   },
   "outputs": [],
   "source": [
    "import gensim"
   ]
  },
  {
   "cell_type": "code",
   "execution_count": 18,
   "metadata": {
    "scrolled": true
   },
   "outputs": [
    {
     "name": "stderr",
     "output_type": "stream",
     "text": [
      "2018-02-18 18:47:01,468 : INFO : loading projection weights from text.model.bin\n",
      "2018-02-18 18:47:06,011 : INFO : loaded (71290, 200) matrix from text.model.bin\n"
     ]
    }
   ],
   "source": [
    "model1 = gensim.models.KeyedVectors.load_word2vec_format('text.model.bin', binary=True)"
   ]
  },
  {
   "cell_type": "markdown",
   "metadata": {},
   "source": [
    "### Hier suchen wir wieder Analogien und ähnliche Wörter"
   ]
  },
  {
   "cell_type": "code",
   "execution_count": 19,
   "metadata": {},
   "outputs": [
    {
     "data": {
      "text/plain": [
       "[('mother', 0.7580921649932861),\n",
       " ('wife', 0.7071292400360107),\n",
       " ('grandmother', 0.692550539970398)]"
      ]
     },
     "execution_count": 19,
     "metadata": {},
     "output_type": "execute_result"
    }
   ],
   "source": [
    "model.most_similar(['girl', 'father'], ['boy'], topn=3)"
   ]
  },
  {
   "cell_type": "code",
   "execution_count": 20,
   "metadata": {},
   "outputs": [
    {
     "data": {
      "text/plain": [
       "[('shark', 0.8096588850021362),\n",
       " ('plum', 0.7764387130737305),\n",
       " ('pink', 0.7697155475616455),\n",
       " ('pig', 0.7632468938827515),\n",
       " ('crab', 0.7548764944076538),\n",
       " ('feather', 0.7507184743881226),\n",
       " ('rat', 0.7491806149482727),\n",
       " ('goose', 0.7486920356750488),\n",
       " ('rabbit', 0.7483101487159729),\n",
       " ('eyed', 0.7455858588218689)]"
      ]
     },
     "execution_count": 20,
     "metadata": {},
     "output_type": "execute_result"
    }
   ],
   "source": [
    "model.most_similar('frog')"
   ]
  },
  {
   "cell_type": "code",
   "execution_count": 21,
   "metadata": {
    "collapsed": true
   },
   "outputs": [],
   "source": [
    "more_examples = [\"he is she\", \"big bigger bad\", \"going went being\"]"
   ]
  },
  {
   "cell_type": "code",
   "execution_count": 22,
   "metadata": {
    "scrolled": true
   },
   "outputs": [
    {
     "name": "stdout",
     "output_type": "stream",
     "text": [
      "'he' is to 'is' as 'she' is to 'represents'\n",
      "'big' is to 'bigger' as 'bad' is to 'worse'\n",
      "'going' is to 'went' as 'being' is to 'was'\n"
     ]
    }
   ],
   "source": [
    "for example in more_examples:\n",
    "    a, b, x = example.split()\n",
    "    predicted = model.most_similar([x, b], [a])[0][0]\n",
    "    print( \"'%s' is to '%s' as '%s' is to '%s'\" % (a, b, x, predicted))"
   ]
  },
  {
   "cell_type": "markdown",
   "metadata": {},
   "source": [
    "### Hier untersuchen wir die Ähnlichkeit von zwei Wörtern. Je näher es bei eins ist, desto mehr werden die Wörter als ähnlich betrachtet. Bei Word2Vec ist aber nur relevant in welchem Kontext Wörter vorkommen, von dem her können auch Gegensätze als sehr ähnlich betrachtet werden oder auch Wörter die eigenltich nicht viel miteinander zu tun haben wie 'pizza' und 'chair', dagegen werden 'pizza' und 'burger' als nicht sehr ähnlich eingestuft"
   ]
  },
  {
   "cell_type": "code",
   "execution_count": 23,
   "metadata": {},
   "outputs": [
    {
     "data": {
      "text/plain": [
       "0.81827504860761358"
      ]
     },
     "execution_count": 23,
     "metadata": {},
     "output_type": "execute_result"
    }
   ],
   "source": [
    "model.wv.similarity('dog', 'cat')"
   ]
  },
  {
   "cell_type": "code",
   "execution_count": 24,
   "metadata": {},
   "outputs": [
    {
     "data": {
      "text/plain": [
       "0.54589379067990262"
      ]
     },
     "execution_count": 24,
     "metadata": {},
     "output_type": "execute_result"
    }
   ],
   "source": [
    "model.wv.similarity('bike', 'car')"
   ]
  },
  {
   "cell_type": "code",
   "execution_count": 25,
   "metadata": {},
   "outputs": [
    {
     "data": {
      "text/plain": [
       "0.37786068731062833"
      ]
     },
     "execution_count": 25,
     "metadata": {},
     "output_type": "execute_result"
    }
   ],
   "source": [
    "model.wv.similarity('pizza', 'burger')"
   ]
  },
  {
   "cell_type": "code",
   "execution_count": 26,
   "metadata": {},
   "outputs": [
    {
     "data": {
      "text/plain": [
       "0.79239824698052475"
      ]
     },
     "execution_count": 26,
     "metadata": {},
     "output_type": "execute_result"
    }
   ],
   "source": [
    "model.wv.similarity('pizza', 'dessert')"
   ]
  },
  {
   "cell_type": "code",
   "execution_count": 27,
   "metadata": {},
   "outputs": [
    {
     "data": {
      "text/plain": [
       "0.076035236554142044"
      ]
     },
     "execution_count": 27,
     "metadata": {},
     "output_type": "execute_result"
    }
   ],
   "source": [
    "model.wv.similarity('pizza', 'chair')"
   ]
  },
  {
   "cell_type": "code",
   "execution_count": 28,
   "metadata": {},
   "outputs": [
    {
     "data": {
      "text/plain": [
       "0.72099565604275695"
      ]
     },
     "execution_count": 28,
     "metadata": {},
     "output_type": "execute_result"
    }
   ],
   "source": [
    "model.wv.similarity('good', 'bad')"
   ]
  },
  {
   "cell_type": "code",
   "execution_count": null,
   "metadata": {
    "collapsed": true
   },
   "outputs": [],
   "source": []
  }
 ],
 "metadata": {
  "kernelspec": {
   "display_name": "Python 3",
   "language": "python",
   "name": "python3"
  },
  "language_info": {
   "codemirror_mode": {
    "name": "ipython",
    "version": 3
   },
   "file_extension": ".py",
   "mimetype": "text/x-python",
   "name": "python",
   "nbconvert_exporter": "python",
   "pygments_lexer": "ipython3",
   "version": "3.6.3"
  }
 },
 "nbformat": 4,
 "nbformat_minor": 2
}
